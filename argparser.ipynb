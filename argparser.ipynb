{
 "cells": [
  {
   "cell_type": "code",
   "execution_count": 1,
   "metadata": {},
   "outputs": [],
   "source": [
    "import argparse"
   ]
  },
  {
   "cell_type": "code",
   "execution_count": 2,
   "metadata": {},
   "outputs": [
    {
     "data": {
      "text/plain": [
       "_StoreTrueAction(option_strings=['--save-model'], dest='save_model', nargs=0, const=True, default=False, type=None, choices=None, help='For Saving the current Model', metavar=None)"
      ]
     },
     "execution_count": 2,
     "metadata": {},
     "output_type": "execute_result"
    }
   ],
   "source": [
    "parser = argparse.ArgumentParser(description='PyTorch MNIST Example') \n",
    "parser.add_argument('--batch-size', type=int, default=64, metavar='N', \n",
    "                    help='input batch size for training (default: 64)') \n",
    "parser.add_argument('--test-batch-size', type=int, default=1000, metavar='N', \n",
    "                    help='input batch size for testing (default: 1000)') \n",
    "parser.add_argument('--epochs', type=int, default=10, metavar='N', \n",
    "                    help='number of epochs to train (default: 10)') \n",
    "parser.add_argument('--lr', type=float, default=0.01, metavar='LR', \n",
    "                    help='learning rate (default: 0.01)') \n",
    "parser.add_argument('--momentum', type=float, default=0.5, metavar='M', \n",
    "                    help='SGD momentum (default: 0.5)') \n",
    "parser.add_argument('--no-cuda', action='store_true', default=False, \n",
    "                    help='disables CUDA training') \n",
    "parser.add_argument('--seed', type=int, default=1, metavar='S', \n",
    "                    help='random seed (default: 1)') \n",
    "parser.add_argument('--log-interval', type=int, default=10, metavar='N', \n",
    "                    help='how many batches to wait before logging training status') \n",
    "parser.add_argument('--save-model', action='store_true', default=False, \n",
    "                    help='For Saving the current Model')"
   ]
  },
  {
   "cell_type": "code",
   "execution_count": 11,
   "metadata": {},
   "outputs": [
    {
     "name": "stdout",
     "output_type": "stream",
     "text": [
      "usage: ipykernel_launcher.py [-h] [--batch-size N] [--test-batch-size N] [--epochs N] [--lr LR] [--momentum M] [--no-cuda] [--seed S] [--log-interval N] [--save-model]\n",
      "\n",
      "PyTorch MNIST Example\n",
      "\n",
      "optional arguments:\n",
      "  -h, --help           show this help message and exit\n",
      "  --batch-size N       input batch size for training (default: 64)\n",
      "  --test-batch-size N  input batch size for testing (default: 1000)\n",
      "  --epochs N           number of epochs to train (default: 10)\n",
      "  --lr LR              learning rate (default: 0.01)\n",
      "  --momentum M         SGD momentum (default: 0.5)\n",
      "  --no-cuda            disables CUDA training\n",
      "  --seed S             random seed (default: 1)\n",
      "  --log-interval N     how many batches to wait before logging training status\n",
      "  --save-model         For Saving the current Model\n"
     ]
    }
   ],
   "source": [
    "parser.print_help()"
   ]
  },
  {
   "cell_type": "code",
   "execution_count": 14,
   "metadata": {},
   "outputs": [
    {
     "name": "stdout",
     "output_type": "stream",
     "text": [
      "Namespace(batch_size=10, epochs=10, log_interval=10, lr=0.01, momentum=0.5, no_cuda=False, save_model=False, seed=1, test_batch_size=1000)\n"
     ]
    }
   ],
   "source": [
    "args_str = '--batch-size 10' \n",
    "FLAGS, _ = parser.parse_known_args(args=args_str.split())\n",
    "print(FLAGS)"
   ]
  },
  {
   "cell_type": "markdown",
   "metadata": {},
   "source": [
    "## easydict"
   ]
  },
  {
   "cell_type": "code",
   "execution_count": 15,
   "metadata": {},
   "outputs": [],
   "source": [
    "import easydict \n",
    "args = easydict.EasyDict({ \n",
    "    \"batchsize\": 100, \n",
    "    \"epoch\": 20, \n",
    "    \"gpu\": 0, \n",
    "    \"out\": \"result\", \n",
    "    \"resume\": False, \n",
    "    \"unit\": 1000 \n",
    "})"
   ]
  },
  {
   "cell_type": "code",
   "execution_count": null,
   "metadata": {},
   "outputs": [],
   "source": []
  }
 ],
 "metadata": {
  "jupytext": {
   "formats": "ipynb,py:light"
  },
  "kernelspec": {
   "display_name": "Python 3",
   "language": "python",
   "name": "python3"
  },
  "language_info": {
   "codemirror_mode": {
    "name": "ipython",
    "version": 3
   },
   "file_extension": ".py",
   "mimetype": "text/x-python",
   "name": "python",
   "nbconvert_exporter": "python",
   "pygments_lexer": "ipython3",
   "version": "3.8.3"
  }
 },
 "nbformat": 4,
 "nbformat_minor": 4
}
